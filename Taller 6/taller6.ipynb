{
 "cells": [
  {
   "cell_type": "code",
   "execution_count": null,
   "metadata": {},
   "outputs": [],
   "source": [
    "import numpy as np\n",
    "import matplotlib.pyplot as plt\n",
    "\n",
    "# Parámetros del problema\n",
    "alpha = 0.001\n",
    "L = 1.0\n",
    "T_izquierda = 100\n",
    "T_inicial = 20\n",
    "total_time = 200.0\n",
    "\n",
    "# Discretización\n",
    "N = 50\n",
    "x_vals = np.linspace(0, L, N)\n",
    "dx = L / (N - 1)\n",
    "dt = 0.4 * dx**2 / alpha\n",
    "Nt = int(total_time / dt)\n",
    "dt = total_time / Nt  # Ajuste exacto\n",
    "\n",
    "# Inicialización\n",
    "T = np.ones((N, Nt)) * T_inicial\n",
    "T[0, :] = T_izquierda  # Frontera izquierda fija\n",
    "\n",
    "lambd = alpha * dt / dx**2\n",
    "\n",
    "# Evolución temporal\n",
    "for j in range(0, Nt - 1):\n",
    "    for i in range(1, N):\n",
    "        if i == N - 1:\n",
    "            T[i, j+1] = T[i-1, j+1]  # Condición de Neumann (aislante)\n",
    "        else:\n",
    "            T[i, j+1] = T[i, j] + lambd * (T[i+1, j] - 2*T[i, j] + T[i-1, j])\n",
    "\n",
    "# Gráfica de la temperatura final\n",
    "plt.figure(figsize=(8, 5))\n",
    "plt.plot(x_vals, T[:, -1], color='red')\n",
    "plt.xlabel(\"x (m)\")\n",
    "plt.ylabel(\"Temperatura (°C)\")\n",
    "plt.title(f\"Distribución de temperatura tras {total_time} segundos\")\n",
    "plt.grid()\n",
    "plt.show()"
   ]
  }
 ],
 "metadata": {
  "language_info": {
   "name": "python"
  }
 },
 "nbformat": 4,
 "nbformat_minor": 2
}
